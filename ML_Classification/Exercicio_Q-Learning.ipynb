{
 "cells": [
  {
   "cell_type": "markdown",
   "id": "95b6be67",
   "metadata": {},
   "source": [
    "# Aprendizagem por Reforço com Q-Learning"
   ]
  },
  {
   "cell_type": "markdown",
   "id": "27adf7b0",
   "metadata": {},
   "source": [
    "### Código adaptado de: https://www.learndatasci.com/tutorials/reinforcement-q-learning-scratch-python-openai-gym/"
   ]
  },
  {
   "cell_type": "markdown",
   "id": "6b66759b",
   "metadata": {},
   "source": [
    "## Entendimento do ambiente"
   ]
  },
  {
   "cell_type": "code",
   "execution_count": 2,
   "id": "649e904f",
   "metadata": {},
   "outputs": [
    {
     "name": "stdout",
     "output_type": "stream",
     "text": [
      "Collecting cmake\n",
      "  Downloading cmake-3.23.3-py2.py3-none-macosx_10_10_universal2.macosx_10_10_x86_64.macosx_11_0_arm64.macosx_11_0_universal2.whl (76.2 MB)\n",
      "\u001b[K     |████████████████████████████████| 76.2 MB 102.3 MB/s eta 0:00:01\n",
      "\u001b[?25hCollecting gym[atari]\n",
      "  Downloading gym-0.25.1.tar.gz (732 kB)\n",
      "\u001b[K     |████████████████████████████████| 732 kB 2.0 MB/s eta 0:00:01\n",
      "\u001b[?25h  Installing build dependencies ... \u001b[?25ldone\n",
      "\u001b[?25h  Getting requirements to build wheel ... \u001b[?25ldone\n",
      "\u001b[?25h    Preparing wheel metadata ... \u001b[?25ldone\n",
      "\u001b[?25hRequirement already satisfied: scipy in /Users/augustoscafi/opt/anaconda3/lib/python3.9/site-packages (1.7.3)\n",
      "Requirement already satisfied: numpy>=1.18.0 in /Users/augustoscafi/opt/anaconda3/lib/python3.9/site-packages (from gym[atari]) (1.21.5)\n",
      "Requirement already satisfied: importlib-metadata>=4.8.0 in /Users/augustoscafi/opt/anaconda3/lib/python3.9/site-packages (from gym[atari]) (4.11.3)\n",
      "Collecting gym-notices>=0.0.4\n",
      "  Downloading gym_notices-0.0.7-py3-none-any.whl (2.7 kB)\n",
      "Requirement already satisfied: cloudpickle>=1.2.0 in /Users/augustoscafi/opt/anaconda3/lib/python3.9/site-packages (from gym[atari]) (2.0.0)\n",
      "Collecting ale-py~=0.7.5\n",
      "  Downloading ale_py-0.7.5-cp39-cp39-macosx_10_15_x86_64.whl (1.1 MB)\n",
      "\u001b[K     |████████████████████████████████| 1.1 MB 5.9 MB/s eta 0:00:01\n",
      "\u001b[?25hCollecting importlib-resources\n",
      "  Downloading importlib_resources-5.9.0-py3-none-any.whl (33 kB)\n",
      "Requirement already satisfied: zipp>=0.5 in /Users/augustoscafi/opt/anaconda3/lib/python3.9/site-packages (from importlib-metadata>=4.8.0->gym[atari]) (3.7.0)\n",
      "Building wheels for collected packages: gym\n",
      "  Building wheel for gym (PEP 517) ... \u001b[?25ldone\n",
      "\u001b[?25h  Created wheel for gym: filename=gym-0.25.1-py3-none-any.whl size=849029 sha256=66f834ce678537b37d7c5f05bc27ea44891398cd1c7128113aef8c40ab3fbb07\n",
      "  Stored in directory: /Users/augustoscafi/Library/Caches/pip/wheels/c1/d0/88/6c9c9c816384998a780ec0beb4194ffecfee3a26bf4208723f\n",
      "Successfully built gym\n",
      "Installing collected packages: importlib-resources, gym-notices, gym, ale-py, cmake\n",
      "Successfully installed ale-py-0.7.5 cmake-3.23.3 gym-0.25.1 gym-notices-0.0.7 importlib-resources-5.9.0\n"
     ]
    }
   ],
   "source": [
    "!pip install cmake 'gym[atari]' scipy"
   ]
  },
  {
   "cell_type": "code",
   "execution_count": 9,
   "id": "c765b6da",
   "metadata": {},
   "outputs": [],
   "source": [
    "import gym\n",
    "import random"
   ]
  },
  {
   "cell_type": "code",
   "execution_count": 10,
   "id": "4bde9095",
   "metadata": {},
   "outputs": [],
   "source": [
    "env = gym.make('Taxi-v3').env\n",
    "new_step_api=True"
   ]
  },
  {
   "cell_type": "code",
   "execution_count": 12,
   "id": "c11be4a5",
   "metadata": {},
   "outputs": [],
   "source": [
    "env.reset()\n",
    "env.render()"
   ]
  },
  {
   "cell_type": "code",
   "execution_count": 13,
   "id": "7be32c56",
   "metadata": {},
   "outputs": [
    {
     "name": "stdout",
     "output_type": "stream",
     "text": [
      "Discrete(6)\n"
     ]
    }
   ],
   "source": [
    "# 0 = south 1 = north 2 = east 3 = west 4 = pickup 5 = dropoff\n",
    "print(env.action_space)"
   ]
  },
  {
   "cell_type": "code",
   "execution_count": 14,
   "id": "53ca876b",
   "metadata": {},
   "outputs": [
    {
     "data": {
      "text/plain": [
       "500"
      ]
     },
     "execution_count": 14,
     "metadata": {},
     "output_type": "execute_result"
    }
   ],
   "source": [
    "5*5*5*4"
   ]
  },
  {
   "cell_type": "code",
   "execution_count": 15,
   "id": "578fa436",
   "metadata": {},
   "outputs": [
    {
     "name": "stdout",
     "output_type": "stream",
     "text": [
      "Discrete(500)\n"
     ]
    }
   ],
   "source": [
    "# 4 destinos\n",
    "print(env.observation_space)"
   ]
  },
  {
   "cell_type": "code",
   "execution_count": 16,
   "id": "93ab8ed8",
   "metadata": {},
   "outputs": [
    {
     "data": {
      "text/plain": [
       "500"
      ]
     },
     "execution_count": 16,
     "metadata": {},
     "output_type": "execute_result"
    }
   ],
   "source": [
    "len(env.P)"
   ]
  },
  {
   "cell_type": "code",
   "execution_count": 17,
   "id": "c772dfbd",
   "metadata": {},
   "outputs": [
    {
     "data": {
      "text/plain": [
       "{0: [(1.0, 484, -1, False)],\n",
       " 1: [(1.0, 384, -1, False)],\n",
       " 2: [(1.0, 484, -1, False)],\n",
       " 3: [(1.0, 464, -1, False)],\n",
       " 4: [(1.0, 484, -10, False)],\n",
       " 5: [(1.0, 484, -10, False)]}"
      ]
     },
     "execution_count": 17,
     "metadata": {},
     "output_type": "execute_result"
    }
   ],
   "source": [
    "env.P[484]"
   ]
  },
  {
   "cell_type": "markdown",
   "id": "8e3aa91c",
   "metadata": {},
   "source": [
    "## Treinamento"
   ]
  },
  {
   "cell_type": "code",
   "execution_count": 19,
   "id": "21cb7f96",
   "metadata": {},
   "outputs": [
    {
     "data": {
      "text/plain": [
       "0.8703849227769659"
      ]
     },
     "execution_count": 19,
     "metadata": {},
     "output_type": "execute_result"
    }
   ],
   "source": [
    "random.uniform(0, 1)"
   ]
  },
  {
   "cell_type": "code",
   "execution_count": 20,
   "id": "c257a248",
   "metadata": {},
   "outputs": [
    {
     "data": {
      "text/plain": [
       "Discrete(6)"
      ]
     },
     "execution_count": 20,
     "metadata": {},
     "output_type": "execute_result"
    }
   ],
   "source": [
    "env.action_space"
   ]
  },
  {
   "cell_type": "code",
   "execution_count": 21,
   "id": "bdb3bd3c",
   "metadata": {},
   "outputs": [
    {
     "data": {
      "text/plain": [
       "(500, 6)"
      ]
     },
     "execution_count": 21,
     "metadata": {},
     "output_type": "execute_result"
    }
   ],
   "source": [
    "import numpy as np\n",
    "q_table = np.zeros([env.observation_space.n, env.action_space.n])\n",
    "q_table.shape"
   ]
  },
  {
   "cell_type": "code",
   "execution_count": 22,
   "id": "8783d856",
   "metadata": {},
   "outputs": [
    {
     "data": {
      "text/plain": [
       "array([[0., 0., 0., 0., 0., 0.],\n",
       "       [0., 0., 0., 0., 0., 0.],\n",
       "       [0., 0., 0., 0., 0., 0.],\n",
       "       ...,\n",
       "       [0., 0., 0., 0., 0., 0.],\n",
       "       [0., 0., 0., 0., 0., 0.],\n",
       "       [0., 0., 0., 0., 0., 0.]])"
      ]
     },
     "execution_count": 22,
     "metadata": {},
     "output_type": "execute_result"
    }
   ],
   "source": [
    "q_table"
   ]
  },
  {
   "cell_type": "code",
   "execution_count": 23,
   "id": "27bd6d83",
   "metadata": {},
   "outputs": [
    {
     "data": {
      "text/plain": [
       "1"
      ]
     },
     "execution_count": 23,
     "metadata": {},
     "output_type": "execute_result"
    }
   ],
   "source": [
    "np.argmax(np.array([3, 5]))"
   ]
  },
  {
   "cell_type": "code",
   "execution_count": 25,
   "id": "b904ee20",
   "metadata": {},
   "outputs": [
    {
     "name": "stdout",
     "output_type": "stream",
     "text": [
      "Episódio:  99900\n",
      "Treinamento concluído\n"
     ]
    }
   ],
   "source": [
    "# 1-10% 3-90%\n",
    "# exploration / exploitation\n",
    "# 0 = south 1 = north 2 = east 3 = west 4 = pickup 5 = dropoff\n",
    "\n",
    "#%%time\n",
    "\n",
    "from IPython.display import clear_output\n",
    "\n",
    "alpha = 0.1\n",
    "gamma = 0.6\n",
    "epsilon = 0.1\n",
    "\n",
    "for i in range(100000):\n",
    "  estado = env.reset()\n",
    "\n",
    "  penalidades, recompensa = 0, 0\n",
    "  done = False\n",
    "  while not done:\n",
    "    # Exploração\n",
    "    if random.uniform(0, 1) < epsilon:\n",
    "      acao = env.action_space.sample()\n",
    "    # Exploitation\n",
    "    else:\n",
    "      acao = np.argmax(q_table[estado])\n",
    "\n",
    "    proximo_estado, recompensa, done, info = env.step(acao)\n",
    "\n",
    "    q_antigo = q_table[estado, acao]\n",
    "    proximo_maximo = np.max(q_table[proximo_estado])\n",
    "\n",
    "    q_novo = (1 - alpha) * q_antigo + alpha * (recompensa + gamma * proximo_maximo)\n",
    "    q_table[estado, acao] = q_novo\n",
    "\n",
    "    if recompensa == -10:\n",
    "      penalidades += 1\n",
    "\n",
    "    estado = proximo_estado\n",
    "\n",
    "  if i % 100 == 0:\n",
    "    clear_output(wait=True)\n",
    "    print('Episódio: ', i)\n",
    "\n",
    "print('Treinamento concluído')"
   ]
  },
  {
   "cell_type": "code",
   "execution_count": 26,
   "id": "4d737e95",
   "metadata": {},
   "outputs": [
    {
     "data": {
      "text/plain": [
       "array([ -2.49215326,  -2.48236806,  -2.48727486,  -2.4926773 ,\n",
       "       -10.78175204, -11.11991141])"
      ]
     },
     "execution_count": 26,
     "metadata": {},
     "output_type": "execute_result"
    }
   ],
   "source": [
    "# 0 = south 1 = north 2 = east 3 = west 4 = pickup 5 = dropoff\n",
    "q_table[346]"
   ]
  },
  {
   "cell_type": "code",
   "execution_count": 27,
   "id": "06d9db3f",
   "metadata": {},
   "outputs": [],
   "source": [
    "env.reset()\n",
    "env.render()"
   ]
  },
  {
   "cell_type": "code",
   "execution_count": 28,
   "id": "c2557404",
   "metadata": {},
   "outputs": [],
   "source": [
    "env.step(1)\n",
    "env.render()"
   ]
  },
  {
   "cell_type": "code",
   "execution_count": 29,
   "id": "eefc640b",
   "metadata": {},
   "outputs": [],
   "source": [
    "env.step(1)\n",
    "env.render()"
   ]
  },
  {
   "cell_type": "code",
   "execution_count": 30,
   "id": "d7f7ce3c",
   "metadata": {},
   "outputs": [
    {
     "data": {
      "text/plain": [
       "346"
      ]
     },
     "execution_count": 30,
     "metadata": {},
     "output_type": "execute_result"
    }
   ],
   "source": [
    "env.encode(3, 2, 1, 2)"
   ]
  },
  {
   "cell_type": "markdown",
   "id": "6fcd6a1d",
   "metadata": {},
   "source": [
    "## Avaliação"
   ]
  },
  {
   "cell_type": "code",
   "execution_count": 31,
   "id": "1f012e0e",
   "metadata": {},
   "outputs": [
    {
     "name": "stdout",
     "output_type": "stream",
     "text": [
      "Episódios 50\n",
      "Penalidades 0\n"
     ]
    },
    {
     "name": "stderr",
     "output_type": "stream",
     "text": [
      "/Users/augustoscafi/opt/anaconda3/lib/python3.9/site-packages/gym/core.py:51: DeprecationWarning: \u001b[33mWARN: The argument mode in render method is deprecated; use render_mode during environment initialization instead.\n",
      "See here for more information: https://www.gymlibrary.ml/content/api/\u001b[0m\n",
      "  deprecation(\n"
     ]
    }
   ],
   "source": [
    "total_penalidades = 0\n",
    "episodios = 50\n",
    "frames = []\n",
    "\n",
    "for _ in range(episodios):\n",
    "  estado = env.reset()\n",
    "  penalidades, recompensa = 0, 0\n",
    "  done = False\n",
    "  while not done:\n",
    "    acao = np.argmax(q_table[estado])\n",
    "    estado, recompensa, done, info = env.step(acao)\n",
    "\n",
    "    if recompensa == -10:\n",
    "      penalidades += 1\n",
    "    \n",
    "    frames.append({\n",
    "        'frame': env.render(mode='ansi'),\n",
    "        'state': estado,\n",
    "        'action': acao,\n",
    "        'reward': recompensa\n",
    "    })\n",
    "\n",
    "  total_penalidades += penalidades\n",
    "\n",
    "print('Episódios', episodios)\n",
    "print('Penalidades', total_penalidades)"
   ]
  },
  {
   "cell_type": "code",
   "execution_count": 32,
   "id": "552a70e3",
   "metadata": {},
   "outputs": [
    {
     "data": {
      "text/plain": [
       "{'frame': '+---------+\\n|\\x1b[34;1mR\\x1b[0m: | : :\\x1b[35mG\\x1b[0m|\\n| : | : :\\x1b[43m \\x1b[0m|\\n| : : : : |\\n| | : | : |\\n|Y| : |B: |\\n+---------+\\n  (South)\\n',\n",
       " 'state': 181,\n",
       " 'action': 0,\n",
       " 'reward': -1}"
      ]
     },
     "execution_count": 32,
     "metadata": {},
     "output_type": "execute_result"
    }
   ],
   "source": [
    "frames[0]"
   ]
  },
  {
   "cell_type": "code",
   "execution_count": 33,
   "id": "1bdf2a08",
   "metadata": {},
   "outputs": [
    {
     "name": "stdout",
     "output_type": "stream",
     "text": [
      "+---------+\n",
      "|R: | : :G|\n",
      "| : | : : |\n",
      "| : : : : |\n",
      "| | : | : |\n",
      "|Y| : |\u001b[35m\u001b[34;1m\u001b[43mB\u001b[0m\u001b[0m\u001b[0m: |\n",
      "+---------+\n",
      "  (Dropoff)\n",
      "\n",
      "Estado 475\n",
      "Ação 5\n",
      "Recompensa 20\n"
     ]
    }
   ],
   "source": [
    "from time import sleep\n",
    "for frame in frames:\n",
    "  clear_output(wait=True)\n",
    "  print(frame['frame'])\n",
    "  print('Estado', frame['state'])\n",
    "  print('Ação', frame['action'])\n",
    "  print('Recompensa', frame['reward'])\n",
    "  sleep(.5)"
   ]
  },
  {
   "cell_type": "code",
   "execution_count": null,
   "id": "f129c7aa",
   "metadata": {},
   "outputs": [],
   "source": []
  }
 ],
 "metadata": {
  "kernelspec": {
   "display_name": "Python 3 (ipykernel)",
   "language": "python",
   "name": "python3"
  },
  "language_info": {
   "codemirror_mode": {
    "name": "ipython",
    "version": 3
   },
   "file_extension": ".py",
   "mimetype": "text/x-python",
   "name": "python",
   "nbconvert_exporter": "python",
   "pygments_lexer": "ipython3",
   "version": "3.9.12"
  }
 },
 "nbformat": 4,
 "nbformat_minor": 5
}
