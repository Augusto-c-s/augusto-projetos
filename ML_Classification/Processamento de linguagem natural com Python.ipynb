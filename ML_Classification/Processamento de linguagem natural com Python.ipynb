{
 "cells": [
  {
   "cell_type": "markdown",
   "id": "e31251c3",
   "metadata": {},
   "source": [
    "# Processamento de linguagem natural com Python"
   ]
  },
  {
   "cell_type": "code",
   "execution_count": null,
   "id": "0227c1e6",
   "metadata": {},
   "outputs": [],
   "source": [
    "!pip install -q spacy==2.2.3\n",
    "#!pip install -q spacy==3.0.0"
   ]
  },
  {
   "cell_type": "code",
   "execution_count": null,
   "id": "d8aeb157",
   "metadata": {},
   "outputs": [],
   "source": [
    "import bs4 as bs\n",
    "import urllib.request\n",
    "import nltk\n",
    "import spacy"
   ]
  },
  {
   "cell_type": "code",
   "execution_count": null,
   "id": "793c0712",
   "metadata": {},
   "outputs": [],
   "source": [
    "!python3 -m spacy download pt"
   ]
  },
  {
   "cell_type": "markdown",
   "id": "89830c83",
   "metadata": {},
   "source": [
    "## Marcação POS\n",
    " - POS (part-of-speech) atribui para as palavras partes da fala, como substantivos, adjetivos, verbos\n",
    " - Importante para a detecção de entidades no texto, pois primeiro é necessário saber o que o texto contém\n",
    " - Lista de tokens: https://spacy.io/api/annotation#pos-tagging\n",
    " - Português: https://www.sketchengine.eu/portuguese-freeling-part-of-speech-tagset/"
   ]
  },
  {
   "cell_type": "code",
   "execution_count": null,
   "id": "c7ca0fe8",
   "metadata": {},
   "outputs": [],
   "source": [
    "pln = spacy.load('pt')\n",
    "pln"
   ]
  },
  {
   "cell_type": "code",
   "execution_count": null,
   "id": "6374002d",
   "metadata": {},
   "outputs": [],
   "source": [
    "documento = pln('Estou aprendendo processamento de linguagem natural, curso em Curitiba')"
   ]
  },
  {
   "cell_type": "code",
   "execution_count": null,
   "id": "374abe8f",
   "metadata": {},
   "outputs": [],
   "source": [
    "type(documento)"
   ]
  },
  {
   "cell_type": "code",
   "execution_count": null,
   "id": "4d2fb220",
   "metadata": {},
   "outputs": [],
   "source": [
    "for token in documento:\n",
    "  print(token.text, token.pos_)"
   ]
  },
  {
   "cell_type": "markdown",
   "id": "88b2bdd3",
   "metadata": {},
   "source": [
    "## Lematização e stemização"
   ]
  },
  {
   "cell_type": "code",
   "execution_count": null,
   "id": "1e16226b",
   "metadata": {},
   "outputs": [],
   "source": [
    "for token in documento:\n",
    "  print(token.text, token.lemma_)"
   ]
  },
  {
   "cell_type": "code",
   "execution_count": null,
   "id": "587b8d75",
   "metadata": {},
   "outputs": [],
   "source": [
    "doc = pln('encontrei encontraram encontrarão encontrariam cursando curso cursei')\n",
    "[token.lemma_ for token in doc]"
   ]
  },
  {
   "cell_type": "code",
   "execution_count": null,
   "id": "9d29409f",
   "metadata": {},
   "outputs": [],
   "source": [
    "import nltk\n",
    "nltk.download('rslp')"
   ]
  },
  {
   "cell_type": "code",
   "execution_count": null,
   "id": "c431f970",
   "metadata": {},
   "outputs": [],
   "source": [
    "stemmer = nltk.stem.RSLPStemmer()\n",
    "stemmer.stem('aprender')"
   ]
  },
  {
   "cell_type": "code",
   "execution_count": null,
   "id": "a400bfd3",
   "metadata": {},
   "outputs": [],
   "source": [
    "for token in documento:\n",
    "  print(token.text, token.lemma_, stemmer.stem(token.text))"
   ]
  },
  {
   "cell_type": "markdown",
   "id": "ecb59433",
   "metadata": {},
   "source": [
    "## Carregamento dos textos"
   ]
  },
  {
   "cell_type": "code",
   "execution_count": null,
   "id": "89f50eec",
   "metadata": {},
   "outputs": [],
   "source": [
    "dados = urllib.request.urlopen('https://pt.wikipedia.org/wiki/Intelig%C3%AAncia_artificial')"
   ]
  },
  {
   "cell_type": "code",
   "execution_count": null,
   "id": "7e8e764a",
   "metadata": {},
   "outputs": [],
   "source": [
    "dados = dados.read()\n",
    "dados"
   ]
  },
  {
   "cell_type": "code",
   "execution_count": null,
   "id": "8e27e67c",
   "metadata": {},
   "outputs": [],
   "source": [
    "dados_html = bs.BeautifulSoup(dados, 'lxml')\n",
    "dados_html"
   ]
  },
  {
   "cell_type": "code",
   "execution_count": null,
   "id": "9a85ed64",
   "metadata": {},
   "outputs": [],
   "source": [
    "paragrafos = dados_html.find_all('p')"
   ]
  },
  {
   "cell_type": "code",
   "execution_count": null,
   "id": "3e19bafb",
   "metadata": {},
   "outputs": [],
   "source": [
    "len(paragrafos)"
   ]
  },
  {
   "cell_type": "code",
   "execution_count": null,
   "id": "33d1de5e",
   "metadata": {},
   "outputs": [],
   "source": [
    "paragrafos[1]"
   ]
  },
  {
   "cell_type": "code",
   "execution_count": null,
   "id": "227dde22",
   "metadata": {},
   "outputs": [],
   "source": [
    "paragrafos[1].text"
   ]
  },
  {
   "cell_type": "code",
   "execution_count": null,
   "id": "ddd3ee96",
   "metadata": {},
   "outputs": [],
   "source": [
    "conteudo = ''\n",
    "for p in paragrafos:\n",
    "  conteudo += p.text"
   ]
  },
  {
   "cell_type": "code",
   "execution_count": null,
   "id": "9ef541f9",
   "metadata": {},
   "outputs": [],
   "source": [
    "conteudo"
   ]
  },
  {
   "cell_type": "code",
   "execution_count": null,
   "id": "a59220f8",
   "metadata": {},
   "outputs": [],
   "source": [
    "conteudo = conteudo.lower()\n",
    "conteudo"
   ]
  },
  {
   "cell_type": "markdown",
   "id": "c03dda28",
   "metadata": {},
   "source": [
    "## Buscas em textos com spaCy"
   ]
  },
  {
   "cell_type": "code",
   "execution_count": 1,
   "id": "78945185",
   "metadata": {},
   "outputs": [
    {
     "ename": "NameError",
     "evalue": "name 'spacy' is not defined",
     "output_type": "error",
     "traceback": [
      "\u001b[0;31m---------------------------------------------------------------------------\u001b[0m",
      "\u001b[0;31mNameError\u001b[0m                                 Traceback (most recent call last)",
      "Input \u001b[0;32mIn [1]\u001b[0m, in \u001b[0;36m<cell line: 1>\u001b[0;34m()\u001b[0m\n\u001b[0;32m----> 1\u001b[0m pln \u001b[38;5;241m=\u001b[39m \u001b[43mspacy\u001b[49m\u001b[38;5;241m.\u001b[39mload(\u001b[38;5;124m'\u001b[39m\u001b[38;5;124mpt\u001b[39m\u001b[38;5;124m'\u001b[39m)\n\u001b[1;32m      2\u001b[0m pln\n",
      "\u001b[0;31mNameError\u001b[0m: name 'spacy' is not defined"
     ]
    }
   ],
   "source": [
    "pln = spacy.load('pt')\n",
    "pln"
   ]
  },
  {
   "cell_type": "code",
   "execution_count": 2,
   "id": "33caf2da",
   "metadata": {},
   "outputs": [
    {
     "ename": "NameError",
     "evalue": "name 'pln' is not defined",
     "output_type": "error",
     "traceback": [
      "\u001b[0;31m---------------------------------------------------------------------------\u001b[0m",
      "\u001b[0;31mNameError\u001b[0m                                 Traceback (most recent call last)",
      "Input \u001b[0;32mIn [2]\u001b[0m, in \u001b[0;36m<cell line: 2>\u001b[0;34m()\u001b[0m\n\u001b[1;32m      1\u001b[0m string \u001b[38;5;241m=\u001b[39m \u001b[38;5;124m'\u001b[39m\u001b[38;5;124mturing\u001b[39m\u001b[38;5;124m'\u001b[39m\n\u001b[0;32m----> 2\u001b[0m token_pesquisa \u001b[38;5;241m=\u001b[39m \u001b[43mpln\u001b[49m(string)\n",
      "\u001b[0;31mNameError\u001b[0m: name 'pln' is not defined"
     ]
    }
   ],
   "source": [
    "string = 'turing'\n",
    "token_pesquisa = pln(string)"
   ]
  },
  {
   "cell_type": "code",
   "execution_count": 3,
   "id": "55260262",
   "metadata": {},
   "outputs": [
    {
     "ename": "NameError",
     "evalue": "name 'pln' is not defined",
     "output_type": "error",
     "traceback": [
      "\u001b[0;31m---------------------------------------------------------------------------\u001b[0m",
      "\u001b[0;31mNameError\u001b[0m                                 Traceback (most recent call last)",
      "Input \u001b[0;32mIn [3]\u001b[0m, in \u001b[0;36m<cell line: 1>\u001b[0;34m()\u001b[0m\n\u001b[0;32m----> 1\u001b[0m \u001b[43mpln\u001b[49m\u001b[38;5;241m.\u001b[39mvocab\n",
      "\u001b[0;31mNameError\u001b[0m: name 'pln' is not defined"
     ]
    }
   ],
   "source": [
    "pln.vocab"
   ]
  },
  {
   "cell_type": "code",
   "execution_count": null,
   "id": "f2770569",
   "metadata": {},
   "outputs": [],
   "source": [
    "from spacy.matcher import PhraseMatcher\n",
    "matcher = PhraseMatcher(pln.vocab)\n",
    "matcher.add('SEARCH', None, token_pesquisa)"
   ]
  },
  {
   "cell_type": "code",
   "execution_count": null,
   "id": "1a95ebba",
   "metadata": {},
   "outputs": [],
   "source": [
    "doc = pln(conteudo)\n",
    "matches = matcher(doc)\n",
    "matches"
   ]
  },
  {
   "cell_type": "code",
   "execution_count": null,
   "id": "1930a3e0",
   "metadata": {},
   "outputs": [],
   "source": [
    "doc[2323:2324], doc[2323-5:2324+5]"
   ]
  },
  {
   "cell_type": "code",
   "execution_count": null,
   "id": "4ecb21f6",
   "metadata": {},
   "outputs": [],
   "source": [
    "doc[2333:2334], doc[2333-5:2334+5]"
   ]
  },
  {
   "cell_type": "code",
   "execution_count": null,
   "id": "897a7204",
   "metadata": {},
   "outputs": [],
   "source": [
    "matches[0], matches[0][1], matches[0][2]"
   ]
  },
  {
   "cell_type": "code",
   "execution_count": null,
   "id": "11235c91",
   "metadata": {},
   "outputs": [],
   "source": [
    "from IPython.core.display import HTML\n",
    "texto = ''\n",
    "numero_palavras = 50\n",
    "doc = pln(conteudo)\n",
    "matches = matcher(doc)\n",
    "\n",
    "display(HTML(f'<h1>{string.upper()}</h1>'))\n",
    "display(HTML(f\"\"\"<p><strong>Resultados encontrados:</strong> {len(matches)}</p>\"\"\"))\n",
    "for i in matches:\n",
    "  inicio = i[1] - numero_palavras\n",
    "  if inicio < 0:\n",
    "    inicio = 0\n",
    "  texto += str(doc[inicio:i[2] + numero_palavras]).replace(string, f\"<mark>{string}</mark>\")\n",
    "  texto += \"<br /><br />\"\n",
    "display(HTML(f\"\"\"... {texto} ... \"\"\"))"
   ]
  },
  {
   "cell_type": "markdown",
   "id": "a2af0fdd",
   "metadata": {},
   "source": [
    "## Extração de entidades nomeadas\n",
    " - NER (Named-Entity Recognition)\n",
    " - Encontrar e classificar entidades no texto, dependendo da base de dados que foi utilizada para o treinamento     (pessoa, localização, empresa, numéricos)\n",
    " - Usado em chatbots para saber o assunto falado\n",
    " - Siglas: https://spacy.io/api/annotation#named-entities"
   ]
  },
  {
   "cell_type": "code",
   "execution_count": null,
   "id": "848af74e",
   "metadata": {},
   "outputs": [],
   "source": [
    "for entidade in doc.ents:\n",
    "  print(entidade.text, entidade.label_)"
   ]
  },
  {
   "cell_type": "code",
   "execution_count": null,
   "id": "29833051",
   "metadata": {},
   "outputs": [],
   "source": [
    "from spacy import displacy\n",
    "displacy.render(doc, style = 'ent', jupyter = True)"
   ]
  },
  {
   "cell_type": "markdown",
   "id": "e3f8c1d5",
   "metadata": {},
   "source": [
    "## Nuvem de palavras e stop words"
   ]
  },
  {
   "cell_type": "code",
   "execution_count": null,
   "id": "13bf0991",
   "metadata": {},
   "outputs": [],
   "source": [
    "from spacy.lang.pt.stop_words import STOP_WORDS\n",
    "print(STOP_WORDS)"
   ]
  },
  {
   "cell_type": "code",
   "execution_count": null,
   "id": "8312098e",
   "metadata": {},
   "outputs": [],
   "source": [
    "len(STOP_WORDS)"
   ]
  },
  {
   "cell_type": "code",
   "execution_count": null,
   "id": "6faa8820",
   "metadata": {},
   "outputs": [],
   "source": [
    "pln.vocab['usa'].is_stop"
   ]
  },
  {
   "cell_type": "code",
   "execution_count": null,
   "id": "d9f8bc47",
   "metadata": {},
   "outputs": [],
   "source": [
    "doc = pln(conteudo)\n",
    "lista_token = []\n",
    "for token in doc:\n",
    "  lista_token.append(token.text)"
   ]
  },
  {
   "cell_type": "code",
   "execution_count": null,
   "id": "4742b349",
   "metadata": {},
   "outputs": [],
   "source": [
    "print(lista_token)"
   ]
  },
  {
   "cell_type": "code",
   "execution_count": null,
   "id": "3b581407",
   "metadata": {},
   "outputs": [],
   "source": [
    "len(lista_token)"
   ]
  },
  {
   "cell_type": "code",
   "execution_count": null,
   "id": "4207ddfb",
   "metadata": {},
   "outputs": [],
   "source": [
    "sem_stop = []\n",
    "for palavra in lista_token:\n",
    "  if pln.vocab[palavra].is_stop == False:\n",
    "    sem_stop.append(palavra)"
   ]
  },
  {
   "cell_type": "code",
   "execution_count": null,
   "id": "42494c26",
   "metadata": {},
   "outputs": [],
   "source": [
    "print(sem_stop)"
   ]
  },
  {
   "cell_type": "code",
   "execution_count": null,
   "id": "1932ea1b",
   "metadata": {},
   "outputs": [],
   "source": [
    "len(sem_stop)"
   ]
  },
  {
   "cell_type": "code",
   "execution_count": null,
   "id": "1480fe68",
   "metadata": {},
   "outputs": [],
   "source": [
    "from matplotlib.colors import ListedColormap\n",
    "color_map = ListedColormap(['orange', 'green', 'red', 'magenta'])"
   ]
  },
  {
   "cell_type": "code",
   "execution_count": null,
   "id": "e5e174e6",
   "metadata": {},
   "outputs": [],
   "source": [
    "from wordcloud import WordCloud\n",
    "cloud = WordCloud(background_color = 'white', max_words = 100, colormap=color_map)"
   ]
  },
  {
   "cell_type": "code",
   "execution_count": null,
   "id": "0d4292aa",
   "metadata": {},
   "outputs": [],
   "source": [
    "import matplotlib.pyplot as plt\n",
    "cloud = cloud.generate(' '.join(sem_stop))\n",
    "plt.figure(figsize=(15,15))\n",
    "plt.imshow(cloud)\n",
    "plt.axis('off')\n",
    "plt.show()"
   ]
  }
 ],
 "metadata": {
  "kernelspec": {
   "display_name": "Python 3 (ipykernel)",
   "language": "python",
   "name": "python3"
  },
  "language_info": {
   "codemirror_mode": {
    "name": "ipython",
    "version": 3
   },
   "file_extension": ".py",
   "mimetype": "text/x-python",
   "name": "python",
   "nbconvert_exporter": "python",
   "pygments_lexer": "ipython3",
   "version": "3.9.12"
  }
 },
 "nbformat": 4,
 "nbformat_minor": 5
}
